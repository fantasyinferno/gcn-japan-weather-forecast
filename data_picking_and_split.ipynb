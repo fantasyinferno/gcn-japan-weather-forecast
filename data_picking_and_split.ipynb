{
 "cells": [
  {
   "cell_type": "code",
   "execution_count": 40,
   "metadata": {},
   "outputs": [],
   "source": [
    "import pandas as pd\n",
    "import numpy as np\n",
    "import os\n",
    "import graph\n",
    "import matplotlib.pyplot as plt\n",
    "%matplotlib inline"
   ]
  },
  {
   "cell_type": "code",
   "execution_count": 41,
   "metadata": {},
   "outputs": [],
   "source": [
    "def train_val_test_split(X, partitions, ratio=True):\n",
    "    \"\"\"split the input into train, test, val partitions\"\"\"\n",
    "    assert len(partitions) >= 2\n",
    "    assert type(X) is pd.DataFrame\n",
    "    if ratio:\n",
    "        input_len = len(X)\n",
    "        return X.iloc[:input_len * partitions[0],:], X.iloc[input_len * partitions[0]:input_len * partitions[1],:], X.iloc[input_len * partitions[1]:, :]\n",
    "    else:\n",
    "        return X.iloc[:partitions[0],:], X.iloc[partitions[0]:partitions[0] + partitions[1],:], X.iloc[partitions[0] + partitions[1]:, :]\n",
    "    \n",
    "def train_val_test_to_file(splitted_data, dirname, index_label=None):\n",
    "    assert len(splitted_data) == 3\n",
    "    [train, val, test] = splitted_data\n",
    "    train.to_csv(os.path.join(dirname, \"train.csv\"), index_label=index_label)\n",
    "    val.to_csv(os.path.join(dirname, \"val.csv\"), index_label=index_label)\n",
    "    test.to_csv(os.path.join(dirname, \"test.csv\"), index_label=index_label)"
   ]
  },
  {
   "cell_type": "code",
   "execution_count": 67,
   "metadata": {},
   "outputs": [],
   "source": [
    "datasets_dir = \"datasets/japan\"\n",
    "\n",
    "X_fname = os.path.join(datasets_dir, \"data.csv\")\n",
    "sensor_metadata_fname = os.path.join(datasets_dir, \"amd_master.tsv\")\n",
    "X = pd.read_csv(X_fname, index_col=\"datetime\", parse_dates=[\"datetime\"])\n",
    "sensor_metadata = pd.read_csv(sensor_metadata_fname, delimiter=\"\\t\")\n",
    "sensor_metadata = sensor_metadata.loc[sensor_metadata.aid.isin(list(X)), :].reset_index(drop=True)"
   ]
  },
  {
   "cell_type": "code",
   "execution_count": 70,
   "metadata": {},
   "outputs": [],
   "source": [
    "dist, idx = graph.distance_scipy_spatial(sensor_metadata.loc[:,[\"lat1\", \"lng1\", \"alt\"]], k = 20)"
   ]
  },
  {
   "cell_type": "code",
   "execution_count": 71,
   "metadata": {},
   "outputs": [],
   "source": [
    "tokyo_index = sensor_metadata[sensor_metadata.name == \"東京\"].index.values[0]\n",
    "extract_indices = idx[tokyo_index][:-1]\n",
    "extract_indices = np.insert(extract_indices, 0, tokyo_index)"
   ]
  },
  {
   "cell_type": "code",
   "execution_count": 72,
   "metadata": {},
   "outputs": [],
   "source": [
    "extract_aids = [str(s) for s in sensor_metadata.loc[extract_indices, \"aid\"]]\n",
    "X = X.loc[:, extract_aids]"
   ]
  },
  {
   "cell_type": "code",
   "execution_count": 78,
   "metadata": {},
   "outputs": [],
   "source": [
    "X = X.iloc[:-9,:] # drop the last 9 rows which prevent even division`"
   ]
  },
  {
   "cell_type": "code",
   "execution_count": 79,
   "metadata": {},
   "outputs": [
    {
     "data": {
      "text/plain": [
       "(46000, 20)"
      ]
     },
     "execution_count": 79,
     "metadata": {},
     "output_type": "execute_result"
    }
   ],
   "source": [
    "X.shape"
   ]
  },
  {
   "cell_type": "code",
   "execution_count": 80,
   "metadata": {},
   "outputs": [],
   "source": [
    "train, val, test = train_val_test_split(X, [30000, 8000, 8000], ratio=False)"
   ]
  },
  {
   "cell_type": "code",
   "execution_count": 81,
   "metadata": {},
   "outputs": [],
   "source": [
    "train_val_test_to_file([train, val, test], datasets_dir, index_label=\"datetime\")"
   ]
  }
 ],
 "metadata": {
  "kernelspec": {
   "display_name": "Python 2",
   "language": "python",
   "name": "python2"
  },
  "language_info": {
   "codemirror_mode": {
    "name": "ipython",
    "version": 2
   },
   "file_extension": ".py",
   "mimetype": "text/x-python",
   "name": "python",
   "nbconvert_exporter": "python",
   "pygments_lexer": "ipython2",
   "version": "2.7.10"
  }
 },
 "nbformat": 4,
 "nbformat_minor": 2
}
