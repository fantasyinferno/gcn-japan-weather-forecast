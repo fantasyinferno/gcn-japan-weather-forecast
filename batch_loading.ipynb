{
 "cells": [
  {
   "cell_type": "code",
   "execution_count": null,
   "metadata": {},
   "outputs": [],
   "source": [
    "import sys\n",
    "\n",
    "import numpy as np\n",
    "import tensorflow as tf\n",
    "from config import get_config\n",
    "from trainer import Trainer\n",
    "from utils import prepare_dirs, save_config\n",
    "\n",
    "config = None\n",
    "\n",
    "def main(_):\n",
    "\n",
    "    #Directory generating.. for saving\n",
    "    prepare_dirs(config)\n",
    "\n",
    "    #Random seed settings\n",
    "    rng = np.random.RandomState(config.random_seed)\n",
    "    tf.set_random_seed(config.random_seed)\n",
    "\n",
    "    #Model training\n",
    "    trainer = Trainer(config, rng)\n",
    "    save_config(config.model_dir, config)\n",
    "    if config.is_train:\n",
    "        trainer.train()\n",
    "    else:\n",
    "        if not config.load_path:\n",
    "            raise Exception(\n",
    "                \"[!] You should specify `load_path` to \"\n",
    "                \"load a pretrained model\")\n",
    "        trainer.test()\n",
    "\n",
    "if __name__ == \"__main__\":\n",
    "    config, unparsed = get_config()\n",
    "    tf.app.run(main=main, argv=[sys.argv[0]] + unparsed)"
   ]
  }
 ],
 "metadata": {
  "kernelspec": {
   "display_name": "Python 3",
   "language": "python",
   "name": "python3"
  },
  "language_info": {
   "codemirror_mode": {
    "name": "ipython",
    "version": 3
   },
   "file_extension": ".py",
   "mimetype": "text/x-python",
   "name": "python",
   "nbconvert_exporter": "python",
   "pygments_lexer": "ipython3",
   "version": "3.6.5"
  }
 },
 "nbformat": 4,
 "nbformat_minor": 2
}
