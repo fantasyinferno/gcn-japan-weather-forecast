{
 "cells": [
  {
   "cell_type": "markdown",
   "metadata": {},
   "source": [
    "Import the graph convolutional neural network model."
   ]
  },
  {
   "cell_type": "code",
   "execution_count": 1,
   "metadata": {},
   "outputs": [
    {
     "name": "stderr",
     "output_type": "stream",
     "text": [
      "/Users/huynguyen/tensorflow-py3/lib/python3.6/importlib/_bootstrap.py:219: RuntimeWarning: numpy.dtype size changed, may indicate binary incompatibility. Expected 96, got 88\n",
      "  return f(*args, **kwds)\n"
     ]
    }
   ],
   "source": [
    "# from lib import models, graph, coarsening, utils\n",
    "import numpy as np\n",
    "import matplotlib.pyplot as plt\n",
    "import pandas as pd\n",
    "%matplotlib inline"
   ]
  },
  {
   "cell_type": "markdown",
   "metadata": {},
   "source": [
    "Import the resampled data."
   ]
  },
  {
   "cell_type": "code",
   "execution_count": 25,
   "metadata": {},
   "outputs": [
    {
     "name": "stdout",
     "output_type": "stream",
     "text": [
      "<class 'pandas.core.frame.DataFrame'>\n",
      "DatetimeIndex: 1917 entries, 2012-01-01 to 2017-03-31\n",
      "Data columns (total 18 columns):\n",
      "pr          1917 non-null float64\n",
      "f_pr        1917 non-null float64\n",
      "max_ws      2 non-null float64\n",
      "f_max_ws    1917 non-null float64\n",
      "ave_wv      2 non-null float64\n",
      "f_ave_wv    1917 non-null float64\n",
      "ave_ws      2 non-null float64\n",
      "f_ave_ws    1917 non-null float64\n",
      "max_tp      2 non-null float64\n",
      "f_max_tp    1917 non-null float64\n",
      "min_tp      2 non-null float64\n",
      "f_min_tp    1917 non-null float64\n",
      "sl          2 non-null float64\n",
      "f_sl        1917 non-null float64\n",
      "sd          3 non-null float64\n",
      "f_sd        1917 non-null float64\n",
      "dsd         2 non-null float64\n",
      "f_dsd       1917 non-null float64\n",
      "dtypes: float64(18)\n",
      "memory usage: 284.6 KB\n"
     ]
    }
   ],
   "source": [
    "from io_utils import parser, load_sensor_data, load_resampled_sensor_data, write_sensor_data, file_names\n",
    "\n",
    "sensor_data_0 = load_resampled_sensor_data(file_names[15])\n",
    "\n",
    "sensor_data_0.info()"
   ]
  },
  {
   "cell_type": "markdown",
   "metadata": {},
   "source": [
    "First we need to format the data in graph form, so that the graph convnet can process it."
   ]
  }
 ],
 "metadata": {
  "kernelspec": {
   "display_name": "Python 3",
   "language": "python",
   "name": "python3"
  },
  "language_info": {
   "codemirror_mode": {
    "name": "ipython",
    "version": 3
   },
   "file_extension": ".py",
   "mimetype": "text/x-python",
   "name": "python",
   "nbconvert_exporter": "python",
   "pygments_lexer": "ipython3",
   "version": "3.6.6"
  }
 },
 "nbformat": 4,
 "nbformat_minor": 2
}
